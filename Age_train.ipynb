{
  "nbformat": 4,
  "nbformat_minor": 0,
  "metadata": {
    "colab": {
      "provenance": []
    },
    "kernelspec": {
      "name": "python3",
      "display_name": "Python 3"
    },
    "accelerator": "GPU",
    "gpuClass": "standard"
  },
  "cells": [
    {
      "cell_type": "code",
      "metadata": {
        "id": "zRpeooBYnUsW",
        "colab": {
          "base_uri": "https://localhost:8080/"
        },
        "outputId": "e1810487-44b0-4e06-de30-9093db680fce"
      },
      "source": [
        "try:\n",
        "  # Use the %tensorflow_version magic if in colab.\n",
        "  %tensorflow_version 2.x\n",
        "except Exception:\n",
        "  pass\n",
        "\n",
        "import tensorflow as tf\n",
        "import os\n",
        "import dlib\n",
        "import cv2\n",
        "import time\n",
        "import math\n",
        "import datetime\n",
        "import matplotlib.pyplot as plt\n",
        "import os\n",
        "import pickle\n",
        "import numpy as np\n",
        "import scipy.io\n",
        "import bz2\n",
        "from random import randint"
      ],
      "execution_count": null,
      "outputs": [
        {
          "output_type": "stream",
          "name": "stdout",
          "text": [
            "Colab only includes TensorFlow 2.x; %tensorflow_version has no effect.\n"
          ]
        }
      ]
    },
    {
      "cell_type": "code",
      "metadata": {
        "id": "4mQ2rhla6yoD",
        "outputId": "82311a66-7595-4de6-ce9d-e893c2248436",
        "colab": {
          "base_uri": "https://localhost:8080/"
        }
      },
      "source": [
        "\n",
        "if not os.path.exists(os.path.abspath('.') + 'mmod_human_face_detector.dat.bz2'):\n",
        "    annotation_zip = tf.keras.utils.get_file('mmod_human_face_detector.dat.bz2',\n",
        "                            cache_subdir=os.path.abspath('.'),\n",
        "                            origin = \"http://dlib.net/files/mmod_human_face_detector.dat.bz2\")\n",
        "# Using pythons bz2 package to read the bz2 file in binary format and write it into a .dat file\n",
        "with bz2.open(\"mmod_human_face_detector.dat.bz2\", \"rb\") as f:\n",
        "    content = f.read()\n",
        "\n",
        "    with open(\"mmod_human_face_detector.dat\", \"wb\") as weights_file:\n",
        "        weights_file.write(content)\n",
        "\n",
        "os.remove(annotation_zip)"
      ],
      "execution_count": null,
      "outputs": [
        {
          "output_type": "stream",
          "name": "stdout",
          "text": [
            "Downloading data from http://dlib.net/files/mmod_human_face_detector.dat.bz2\n",
            "694709/694709 [==============================] - 1s 1us/step\n"
          ]
        }
      ]
    },
    {
      "cell_type": "code",
      "metadata": {
        "id": "dRdhP5bIOv--",
        "outputId": "b234fd5a-22de-4c33-e885-f2066742b2a2",
        "colab": {
          "base_uri": "https://localhost:8080/"
        }
      },
      "source": [
        "dataset_url = 'https://data.vision.ee.ethz.ch/cvl/rrothe/imdb-wiki/static/wiki_crop.tar'\n",
        "annotation_folder = \"wiki_crop\"\n",
        "if not os.path.exists(os.path.abspath('.') + annotation_folder):\n",
        "    annotation_zip = tf.keras.utils.get_file('wiki.tar',\n",
        "                                            cache_subdir=os.path.abspath('.'),\n",
        "                                            origin = dataset_url,\n",
        "                                            extract = True)\n",
        "    os.remove(annotation_zip)\n",
        "data_key = 'wiki'\n",
        "mat_file = 'wiki.mat'"
      ],
      "execution_count": null,
      "outputs": [
        {
          "output_type": "stream",
          "name": "stdout",
          "text": [
            "Downloading data from https://data.vision.ee.ethz.ch/cvl/rrothe/imdb-wiki/static/wiki_crop.tar\n",
            "811315200/811315200 [==============================] - 11s 0us/step\n"
          ]
        }
      ]
    },
    {
      "cell_type": "code",
      "source": [
        "dataset_url = 'https://data.vision.ee.ethz.ch/cvl/rrothe/imdb-wiki/static/imdb_crop.tar'\n",
        "annotation_folder = \"imdb_crop\"\n",
        "if not os.path.exists(os.path.abspath('.') + annotation_folder):\n",
        "    annotation_zip = tf.keras.utils.get_file('imdb.tar',\n",
        "                                            cache_subdir=os.path.abspath('.'),\n",
        "                                            origin = dataset_url,\n",
        "                                            extract = True)\n",
        "    os.remove(annotation_zip)\n",
        "data_key = 'imdb'\n",
        "mat_file = 'imdb.mat'"
      ],
      "metadata": {
        "colab": {
          "base_uri": "https://localhost:8080/"
        },
        "id": "-hw-13DOThu9",
        "outputId": "8412bb2c-4416-4b6f-bedf-3cdc505fde42"
      },
      "execution_count": null,
      "outputs": [
        {
          "output_type": "stream",
          "name": "stdout",
          "text": [
            "Downloading data from https://data.vision.ee.ethz.ch/cvl/rrothe/imdb-wiki/static/imdb_crop.tar\n",
            "7012157440/7012157440 [==============================] - 140s 0us/step\n"
          ]
        }
      ]
    },
    {
      "cell_type": "code",
      "source": [
        "!python mat.py"
      ],
      "metadata": {
        "id": "ORn9rLAZTuBT"
      },
      "execution_count": null,
      "outputs": []
    },
    {
      "cell_type": "code",
      "source": [
        "!python age.py"
      ],
      "metadata": {
        "id": "2OTU762STuq3"
      },
      "execution_count": null,
      "outputs": []
    },
    {
      "cell_type": "code",
      "source": [
        "from keras import backend as K\n",
        "\n",
        "\n",
        "def age_mae(y_true, y_pred):\n",
        "    true_age = K.sum(y_true * K.arange(0, 102, dtype=\"float32\"), axis=-1)\n",
        "    pred_age = K.sum(y_pred * K.arange(0, 102, dtype=\"float32\"), axis=-1)\n",
        "    mae = K.mean(K.abs(true_age - pred_age))\n",
        "    return mae\n"
      ],
      "metadata": {
        "id": "JFiYi6TvqhsJ"
      },
      "execution_count": 3,
      "outputs": []
    },
    {
      "cell_type": "code",
      "source": [
        "# Importing dependencies\n",
        "import tensorflow as tf\n",
        "from tensorflow.keras.preprocessing.image import ImageDataGenerator\n",
        "from tensorflow.keras.layers import Dense, Dropout, Flatten\n",
        "from tensorflow.keras.applications.resnet50 import ResNet50\n",
        "from tensorflow.keras.models import Model\n",
        "from tensorflow.keras.optimizers import Adam\n",
        "\n",
        "# Setting up the data generators\n",
        "train_datagen = ImageDataGenerator(rescale=1./255)\n",
        "test_datagen = ImageDataGenerator(rescale=1./255)\n",
        "\n",
        "train_generator = train_datagen.flow_from_directory('content/dataset/age/train', target_size=(128, 128), batch_size=64, class_mode='categorical')\n",
        "test_generator = test_datagen.flow_from_directory('content/dataset/age/test', target_size=(128, 128), batch_size=64, class_mode='categorical')\n",
        "\n",
        "# Building the model\n",
        "base_model = ResNet50(weights='imagenet', include_top=False, input_shape=(128, 128, 3), pooling=\"avg\")\n",
        "x = Dropout(0.5)(base_model.output)\n",
        "\n",
        "prediction = Dense(units=102, kernel_initializer=\"he_normal\", use_bias=False, activation=\"softmax\",\n",
        "                       name=\"pred_age\")(x)\n",
        "\n",
        "model = Model(inputs=base_model.input, outputs=prediction)\n",
        "# # Freezing the base model layers\n",
        "# for layer in base_model.layers:\n",
        "#     layer.trainable = False\n"
      ],
      "metadata": {
        "colab": {
          "base_uri": "https://localhost:8080/"
        },
        "id": "FZs_YF-dqLiN",
        "outputId": "9269db23-cf28-451f-df47-959c2a192343"
      },
      "execution_count": 4,
      "outputs": [
        {
          "output_type": "stream",
          "name": "stdout",
          "text": [
            "Found 179660 images belonging to 102 classes.\n",
            "Found 44916 images belonging to 102 classes.\n",
            "Downloading data from https://storage.googleapis.com/tensorflow/keras-applications/resnet/resnet50_weights_tf_dim_ordering_tf_kernels_notop.h5\n",
            "94765736/94765736 [==============================] - 1s 0us/step\n"
          ]
        }
      ]
    },
    {
      "cell_type": "code",
      "source": [
        "from tensorflow.keras.callbacks import ModelCheckpoint\n",
        "\n",
        "# Define the checkpoint filepath and set the save_best_only parameter to True\n",
        "checkpoint_filepath = 'best_age_model.h5'\n",
        "checkpoint_callback = ModelCheckpoint(\n",
        "    checkpoint_filepath, \n",
        "    save_best_only=True,\n",
        "    monitor='val_age_mae', # Choose the metric to monitor for saving the best model\n",
        "    mode='min', # Set the mode to 'min' if the metric should be minimized, 'max' if it should be maximized\n",
        "    verbose=1\n",
        ")\n",
        "\n",
        "\n",
        "# Compiling the model\n",
        "model.compile(optimizer=Adam(lr=0.0001), loss='categorical_crossentropy', metrics=[age_mae])\n",
        "\n",
        "# Training the model with the checkpoint callback\n",
        "history = model.fit(train_generator, epochs=20, validation_data=test_generator, callbacks=[checkpoint_callback])\n",
        "\n",
        "# # Saving the model\n",
        "# model.save('age_model_102.h5')"
      ],
      "metadata": {
        "colab": {
          "base_uri": "https://localhost:8080/"
        },
        "id": "d70ZJsdoqLle",
        "outputId": "ead085a9-af2a-44f0-ecad-159167007218"
      },
      "execution_count": 5,
      "outputs": [
        {
          "output_type": "stream",
          "name": "stderr",
          "text": [
            "WARNING:absl:`lr` is deprecated, please use `learning_rate` instead, or use the legacy optimizer, e.g.,tf.keras.optimizers.legacy.Adam.\n"
          ]
        },
        {
          "output_type": "stream",
          "name": "stdout",
          "text": [
            "Epoch 1/20\n",
            "2808/2808 [==============================] - ETA: 0s - loss: 3.7617 - age_mae: 9.1860\n",
            "Epoch 1: val_age_mae improved from inf to 8.89575, saving model to best_age_model.h5\n",
            "2808/2808 [==============================] - 748s 250ms/step - loss: 3.7617 - age_mae: 9.1860 - val_loss: 3.8005 - val_age_mae: 8.8957\n",
            "Epoch 2/20\n",
            "2808/2808 [==============================] - ETA: 0s - loss: 3.6042 - age_mae: 8.1201\n",
            "Epoch 2: val_age_mae improved from 8.89575 to 8.60227, saving model to best_age_model.h5\n",
            "2808/2808 [==============================] - 681s 243ms/step - loss: 3.6042 - age_mae: 8.1201 - val_loss: 3.7063 - val_age_mae: 8.6023\n",
            "Epoch 3/20\n",
            "2808/2808 [==============================] - ETA: 0s - loss: 3.5375 - age_mae: 7.6927\n",
            "Epoch 3: val_age_mae did not improve from 8.60227\n",
            "2808/2808 [==============================] - 682s 243ms/step - loss: 3.5375 - age_mae: 7.6927 - val_loss: 3.7494 - val_age_mae: 8.9843\n",
            "Epoch 4/20\n",
            "2808/2808 [==============================] - ETA: 0s - loss: 3.4791 - age_mae: 7.3447\n",
            "Epoch 4: val_age_mae did not improve from 8.60227\n",
            "2808/2808 [==============================] - 680s 242ms/step - loss: 3.4791 - age_mae: 7.3447 - val_loss: 3.9811 - val_age_mae: 9.5934\n",
            "Epoch 5/20\n",
            "2808/2808 [==============================] - ETA: 0s - loss: 3.4192 - age_mae: 6.9925\n",
            "Epoch 5: val_age_mae improved from 8.60227 to 7.72268, saving model to best_age_model.h5\n",
            "2808/2808 [==============================] - 681s 242ms/step - loss: 3.4192 - age_mae: 6.9925 - val_loss: 3.5549 - val_age_mae: 7.7227\n",
            "Epoch 6/20\n",
            "2808/2808 [==============================] - ETA: 0s - loss: 3.3587 - age_mae: 6.6499\n",
            "Epoch 6: val_age_mae did not improve from 7.72268\n",
            "2808/2808 [==============================] - 681s 242ms/step - loss: 3.3587 - age_mae: 6.6499 - val_loss: 3.6301 - val_age_mae: 8.0185\n",
            "Epoch 7/20\n",
            "2808/2808 [==============================] - ETA: 0s - loss: 3.2905 - age_mae: 6.2997\n",
            "Epoch 7: val_age_mae did not improve from 7.72268\n",
            "2808/2808 [==============================] - 711s 253ms/step - loss: 3.2905 - age_mae: 6.2997 - val_loss: 3.5913 - val_age_mae: 7.9759\n",
            "Epoch 8/20\n",
            "2808/2808 [==============================] - ETA: 0s - loss: 3.2122 - age_mae: 5.9407\n",
            "Epoch 8: val_age_mae improved from 7.72268 to 7.51945, saving model to best_age_model.h5\n",
            "2808/2808 [==============================] - 678s 242ms/step - loss: 3.2122 - age_mae: 5.9407 - val_loss: 3.5476 - val_age_mae: 7.5194\n",
            "Epoch 9/20\n",
            "2808/2808 [==============================] - ETA: 0s - loss: 3.1285 - age_mae: 5.5752\n",
            "Epoch 9: val_age_mae did not improve from 7.51945\n",
            "2808/2808 [==============================] - 679s 242ms/step - loss: 3.1285 - age_mae: 5.5752 - val_loss: 3.5419 - val_age_mae: 7.5945\n",
            "Epoch 10/20\n",
            "2808/2808 [==============================] - ETA: 0s - loss: 3.0348 - age_mae: 5.2226\n",
            "Epoch 10: val_age_mae did not improve from 7.51945\n",
            "2808/2808 [==============================] - 681s 243ms/step - loss: 3.0348 - age_mae: 5.2226 - val_loss: 3.7200 - val_age_mae: 7.6764\n",
            "Epoch 11/20\n",
            "2808/2808 [==============================] - ETA: 0s - loss: 2.9406 - age_mae: 4.9018\n",
            "Epoch 11: val_age_mae did not improve from 7.51945\n",
            "2808/2808 [==============================] - 683s 243ms/step - loss: 2.9406 - age_mae: 4.9018 - val_loss: 3.8127 - val_age_mae: 7.5683\n",
            "Epoch 12/20\n",
            "2808/2808 [==============================] - ETA: 0s - loss: 2.8444 - age_mae: 4.6191\n",
            "Epoch 12: val_age_mae did not improve from 7.51945\n",
            "2808/2808 [==============================] - 681s 242ms/step - loss: 2.8444 - age_mae: 4.6191 - val_loss: 3.7930 - val_age_mae: 7.8389\n",
            "Epoch 13/20\n",
            "2808/2808 [==============================] - ETA: 0s - loss: 2.7479 - age_mae: 4.3661\n",
            "Epoch 13: val_age_mae did not improve from 7.51945\n",
            "2808/2808 [==============================] - 683s 243ms/step - loss: 2.7479 - age_mae: 4.3661 - val_loss: 4.0296 - val_age_mae: 7.7496\n",
            "Epoch 14/20\n",
            "2808/2808 [==============================] - ETA: 0s - loss: 2.6549 - age_mae: 4.1622\n",
            "Epoch 14: val_age_mae did not improve from 7.51945\n",
            "2808/2808 [==============================] - 680s 242ms/step - loss: 2.6549 - age_mae: 4.1622 - val_loss: 4.3411 - val_age_mae: 7.5958\n",
            "Epoch 15/20\n",
            "2808/2808 [==============================] - ETA: 0s - loss: 2.5592 - age_mae: 3.9796\n",
            "Epoch 15: val_age_mae did not improve from 7.51945\n",
            "2808/2808 [==============================] - 679s 242ms/step - loss: 2.5592 - age_mae: 3.9796 - val_loss: 4.3185 - val_age_mae: 7.7247\n",
            "Epoch 16/20\n",
            "2808/2808 [==============================] - ETA: 0s - loss: 2.4580 - age_mae: 3.8123\n",
            "Epoch 16: val_age_mae did not improve from 7.51945\n",
            "2808/2808 [==============================] - 683s 243ms/step - loss: 2.4580 - age_mae: 3.8123 - val_loss: 4.3518 - val_age_mae: 7.7711\n",
            "Epoch 17/20\n",
            "2808/2808 [==============================] - ETA: 0s - loss: 2.3504 - age_mae: 3.6641\n",
            "Epoch 17: val_age_mae did not improve from 7.51945\n",
            "2808/2808 [==============================] - 683s 243ms/step - loss: 2.3504 - age_mae: 3.6641 - val_loss: 4.6577 - val_age_mae: 7.5619\n",
            "Epoch 18/20\n",
            "2808/2808 [==============================] - ETA: 0s - loss: 2.2321 - age_mae: 3.5315\n",
            "Epoch 18: val_age_mae did not improve from 7.51945\n",
            "2808/2808 [==============================] - 683s 243ms/step - loss: 2.2321 - age_mae: 3.5315 - val_loss: 4.8341 - val_age_mae: 7.7882\n",
            "Epoch 19/20\n",
            "2808/2808 [==============================] - ETA: 0s - loss: 2.1051 - age_mae: 3.4005\n",
            "Epoch 19: val_age_mae did not improve from 7.51945\n",
            "2808/2808 [==============================] - 711s 253ms/step - loss: 2.1051 - age_mae: 3.4005 - val_loss: 4.8328 - val_age_mae: 7.8697\n",
            "Epoch 20/20\n",
            "2808/2808 [==============================] - ETA: 0s - loss: 1.9607 - age_mae: 3.2599\n",
            "Epoch 20: val_age_mae did not improve from 7.51945\n",
            "2808/2808 [==============================] - 679s 242ms/step - loss: 1.9607 - age_mae: 3.2599 - val_loss: 5.2227 - val_age_mae: 7.7328\n"
          ]
        }
      ]
    },
    {
      "cell_type": "code",
      "source": [],
      "metadata": {
        "id": "fZJGfhspty0O"
      },
      "execution_count": null,
      "outputs": []
    },
    {
      "cell_type": "code",
      "source": [
        "import matplotlib.pyplot as plt\n",
        "\n",
        "# Plotting the train and validation loss\n",
        "plt.plot(history.history['loss'], label='Train Loss')\n",
        "plt.plot(history.history['val_loss'], label='Val Loss')\n",
        "plt.title('Train vs Val Loss')\n",
        "plt.xlabel('Epoch')\n",
        "plt.ylabel('Loss')\n",
        "plt.legend()\n",
        "plt.show()\n",
        "\n",
        "# Plotting the train and validation metrics\n",
        "plt.plot(history.history['age_mae'], label='Train MAE')\n",
        "plt.plot(history.history['val_age_mae'], label='Val MAE')\n",
        "plt.title('Train vs Val MAE')\n",
        "plt.xlabel('Epoch')\n",
        "plt.ylabel('MAE')\n",
        "plt.legend()\n",
        "plt.show()\n"
      ],
      "metadata": {
        "id": "4X2KOS_oqLpo",
        "colab": {
          "base_uri": "https://localhost:8080/",
          "height": 573
        },
        "outputId": "aad46f04-9b9f-4de2-8abf-c79b1371b385"
      },
      "execution_count": 6,
      "outputs": [
        {
          "output_type": "display_data",
          "data": {
            "text/plain": [
              "<Figure size 432x288 with 1 Axes>"
            ],
            "image/png": "[encoded data removed]"
          },
          "metadata": {
            "needs_background": "light"
          }
        },
        {
          "output_type": "display_data",
          "data": {
            "text/plain": [
              "<Figure size 432x288 with 1 Axes>"
            ],
            "image/png": "[encoded data removed]"
          },
          "metadata": {
            "needs_background": "light"
          }
        }
      ]
    }
  ]
}
