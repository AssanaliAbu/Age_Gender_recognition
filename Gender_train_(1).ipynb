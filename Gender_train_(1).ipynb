{
  "nbformat": 4,
  "nbformat_minor": 0,
  "metadata": {
    "colab": {
      "provenance": []
    },
    "kernelspec": {
      "name": "python3",
      "display_name": "Python 3"
    },
    "accelerator": "GPU",
    "gpuClass": "standard"
  },
  "cells": [
    {
      "cell_type": "code",
      "metadata": {
        "id": "zRpeooBYnUsW",
        "colab": {
          "base_uri": "https://localhost:8080/"
        },
        "outputId": "7a945cbf-b544-4813-ab17-6329106b88cb"
      },
      "source": [
        "try:\n",
        "  # Use the %tensorflow_version magic if in colab.\n",
        "  %tensorflow_version 2.x\n",
        "except Exception:\n",
        "  pass\n",
        "\n",
        "import tensorflow as tf\n",
        "import os\n",
        "import dlib\n",
        "import cv2\n",
        "import time\n",
        "import math\n",
        "import datetime\n",
        "import matplotlib.pyplot as plt\n",
        "import os\n",
        "import pickle\n",
        "import numpy as np\n",
        "import scipy.io\n",
        "import bz2\n",
        "from random import randint"
      ],
      "execution_count": null,
      "outputs": [
        {
          "output_type": "stream",
          "name": "stdout",
          "text": [
            "Colab only includes TensorFlow 2.x; %tensorflow_version has no effect.\n"
          ]
        }
      ]
    },
    {
      "cell_type": "code",
      "metadata": {
        "id": "4mQ2rhla6yoD",
        "outputId": "68731451-6420-49cd-dd1b-1dd1cafa7e73",
        "colab": {
          "base_uri": "https://localhost:8080/"
        }
      },
      "source": [
        "\n",
        "if not os.path.exists(os.path.abspath('.') + 'mmod_human_face_detector.dat.bz2'):\n",
        "    annotation_zip = tf.keras.utils.get_file('mmod_human_face_detector.dat.bz2',\n",
        "                            cache_subdir=os.path.abspath('.'),\n",
        "                            origin = \"http://dlib.net/files/mmod_human_face_detector.dat.bz2\")\n",
        "# Using pythons bz2 package to read the bz2 file in binary format and write it into a .dat file\n",
        "with bz2.open(\"mmod_human_face_detector.dat.bz2\", \"rb\") as f:\n",
        "    content = f.read()\n",
        "\n",
        "    with open(\"mmod_human_face_detector.dat\", \"wb\") as weights_file:\n",
        "        weights_file.write(content)\n",
        "\n",
        "os.remove(annotation_zip)"
      ],
      "execution_count": null,
      "outputs": [
        {
          "output_type": "stream",
          "name": "stdout",
          "text": [
            "Downloading data from http://dlib.net/files/mmod_human_face_detector.dat.bz2\n",
            "694709/694709 [==============================] - 1s 1us/step\n"
          ]
        }
      ]
    },
    {
      "cell_type": "code",
      "metadata": {
        "id": "dRdhP5bIOv--",
        "outputId": "d47edee7-f95b-4f41-bf3b-5eec49661214",
        "colab": {
          "base_uri": "https://localhost:8080/"
        }
      },
      "source": [
        "dataset_url = 'https://data.vision.ee.ethz.ch/cvl/rrothe/imdb-wiki/static/wiki_crop.tar'\n",
        "annotation_folder = \"wiki_crop\"\n",
        "if not os.path.exists(os.path.abspath('.') + annotation_folder):\n",
        "    annotation_zip = tf.keras.utils.get_file('wiki.tar',\n",
        "                                            cache_subdir=os.path.abspath('.'),\n",
        "                                            origin = dataset_url,\n",
        "                                            extract = True)\n",
        "    os.remove(annotation_zip)\n",
        "data_key = 'wiki'\n",
        "mat_file = 'wiki.mat'"
      ],
      "execution_count": null,
      "outputs": [
        {
          "output_type": "stream",
          "name": "stdout",
          "text": [
            "Downloading data from https://data.vision.ee.ethz.ch/cvl/rrothe/imdb-wiki/static/wiki_crop.tar\n",
            "811315200/811315200 [==============================] - 9s 0us/step\n"
          ]
        }
      ]
    },
    {
      "cell_type": "code",
      "source": [
        "dataset_url = 'https://data.vision.ee.ethz.ch/cvl/rrothe/imdb-wiki/static/imdb_crop.tar'\n",
        "annotation_folder = \"imdb_crop\"\n",
        "if not os.path.exists(os.path.abspath('.') + annotation_folder):\n",
        "    annotation_zip = tf.keras.utils.get_file('imdb.tar',\n",
        "                                            cache_subdir=os.path.abspath('.'),\n",
        "                                            origin = dataset_url,\n",
        "                                            extract = True)\n",
        "    os.remove(annotation_zip)\n",
        "data_key = 'imdb'\n",
        "mat_file = 'imdb.mat'"
      ],
      "metadata": {
        "colab": {
          "base_uri": "https://localhost:8080/"
        },
        "id": "-hw-13DOThu9",
        "outputId": "357ecf09-bb2d-4809-cecb-38d103b1d315"
      },
      "execution_count": null,
      "outputs": [
        {
          "output_type": "stream",
          "name": "stdout",
          "text": [
            "Downloading data from https://data.vision.ee.ethz.ch/cvl/rrothe/imdb-wiki/static/imdb_crop.tar\n",
            "7012157440/7012157440 [==============================] - 101s 0us/step\n"
          ]
        }
      ]
    },
    {
      "cell_type": "code",
      "source": [
        "!python mat.py"
      ],
      "metadata": {
        "id": "ORn9rLAZTuBT"
      },
      "execution_count": null,
      "outputs": []
    },
    {
      "cell_type": "code",
      "source": [
        "!python gender.py"
      ],
      "metadata": {
        "id": "5IzRiRIvTusj"
      },
      "execution_count": null,
      "outputs": []
    },
    {
      "cell_type": "code",
      "source": [
        "# Importing dependencies\n",
        "import tensorflow as tf\n",
        "from tensorflow.keras.preprocessing.image import ImageDataGenerator\n",
        "from tensorflow.keras.layers import Dense, Dropout, Flatten\n",
        "from tensorflow.keras.applications.resnet50 import ResNet50\n",
        "from tensorflow.keras.models import Model\n",
        "from tensorflow.keras.optimizers import Adam\n",
        "\n",
        "# Setting up the data generators\n",
        "train_datagen = ImageDataGenerator(rescale=1./255, shear_range=0.2, zoom_range=0.2, horizontal_flip=True)\n",
        "test_datagen = ImageDataGenerator(rescale=1./255)\n",
        "\n",
        "train_generator = train_datagen.flow_from_directory('dataset/gender/train', target_size=(128, 128), batch_size=32, class_mode='binary')\n",
        "test_generator = test_datagen.flow_from_directory('dataset/gender/test', target_size=(128, 128), batch_size=32, class_mode='binary')\n",
        "\n",
        "# Building the model\n",
        "base_model = ResNet50(weights='imagenet', include_top=False, input_shape=(128, 128, 3))\n",
        "x = base_model.output\n",
        "x = Flatten()(x)\n",
        "x = Dense(128, activation='relu')(x)\n",
        "x = Dropout(0.5)(x)\n",
        "predictions = Dense(1, activation='sigmoid')(x)\n",
        "\n",
        "model = Model(inputs=base_model.input, outputs=predictions)\n",
        "\n",
        "\n",
        "\n",
        "# Compiling the model\n",
        "model.compile(optimizer=Adam(lr=0.0001), loss='binary_crossentropy', metrics=['accuracy'])\n",
        "\n",
        "# Training the model\n",
        "model.fit(train_generator, epochs=10, validation_data=test_generator)\n",
        "\n",
        "# Saving the model\n",
        "model.save('gender_model.h5')"
      ],
      "metadata": {
        "colab": {
          "base_uri": "https://localhost:8080/"
        },
        "id": "7N65rzLPfN1S",
        "outputId": "c59235a8-c70f-4f65-b93d-507b0426db8c"
      },
      "execution_count": null,
      "outputs": [
        {
          "output_type": "stream",
          "name": "stdout",
          "text": [
            "Found 171100 images belonging to 2 classes.\n",
            "Found 53740 images belonging to 2 classes.\n"
          ]
        },
        {
          "output_type": "stream",
          "name": "stderr",
          "text": [
            "WARNING:absl:`lr` is deprecated, please use `learning_rate` instead, or use the legacy optimizer, e.g.,tf.keras.optimizers.legacy.Adam.\n"
          ]
        },
        {
          "output_type": "stream",
          "name": "stdout",
          "text": [
            "Epoch 1/10\n",
            "5347/5347 [==============================] - 1199s 217ms/step - loss: 0.4483 - accuracy: 0.7992 - val_loss: 0.6528 - val_accuracy: 0.7629\n",
            "Epoch 2/10\n",
            "5347/5347 [==============================] - 1180s 221ms/step - loss: 0.4103 - accuracy: 0.8189 - val_loss: 0.4970 - val_accuracy: 0.8337\n",
            "Epoch 3/10\n",
            "5347/5347 [==============================] - 1091s 204ms/step - loss: 0.3787 - accuracy: 0.8461 - val_loss: 0.4593 - val_accuracy: 0.8063\n",
            "Epoch 4/10\n",
            "5347/5347 [==============================] - 1100s 206ms/step - loss: 0.3547 - accuracy: 0.8600 - val_loss: 0.2545 - val_accuracy: 0.9195\n",
            "Epoch 5/10\n",
            "5347/5347 [==============================] - 1136s 212ms/step - loss: 0.3337 - accuracy: 0.8698 - val_loss: 0.3909 - val_accuracy: 0.8329\n",
            "Epoch 6/10\n",
            "5347/5347 [==============================] - 1156s 216ms/step - loss: 0.3228 - accuracy: 0.8751 - val_loss: 0.2758 - val_accuracy: 0.9048\n",
            "Epoch 7/10\n",
            "5347/5347 [==============================] - 1189s 222ms/step - loss: 0.3149 - accuracy: 0.8788 - val_loss: 0.2754 - val_accuracy: 0.9115\n",
            "Epoch 8/10\n",
            "5347/5347 [==============================] - 1130s 211ms/step - loss: 0.3096 - accuracy: 0.8810 - val_loss: 0.2305 - val_accuracy: 0.9211\n",
            "Epoch 9/10\n",
            "5347/5347 [==============================] - 1110s 208ms/step - loss: 0.3041 - accuracy: 0.8838 - val_loss: 0.3274 - val_accuracy: 0.8709\n",
            "Epoch 10/10\n",
            "5347/5347 [==============================] - 1135s 212ms/step - loss: 0.3000 - accuracy: 0.8857 - val_loss: 0.2952 - val_accuracy: 0.8990\n"
          ]
        }
      ]
    },
    {
      "cell_type": "code",
      "source": [
        "# Evaluating the model on test data\n",
        "score = model.evaluate(test_generator)\n",
        "print(\"Test loss:\", score[0])\n",
        "print(\"Test accuracy:\", score[1])\n"
      ],
      "metadata": {
        "colab": {
          "base_uri": "https://localhost:8080/"
        },
        "id": "I6VctJIntyuc",
        "outputId": "02e28085-0b16-4810-8c37-2ff768808b35"
      },
      "execution_count": null,
      "outputs": [
        {
          "output_type": "stream",
          "name": "stdout",
          "text": [
            "1680/1680 [==============================] - 81s 48ms/step - loss: 0.2952 - accuracy: 0.8990\n",
            "Test loss: 0.295164555311203\n",
            "Test accuracy: 0.8989951610565186\n"
          ]
        }
      ]
    }
  ]
}